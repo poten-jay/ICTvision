{
 "cells": [
  {
   "cell_type": "markdown",
   "metadata": {},
   "source": [
    "\n",
    "녹화_2022_05_14_24_65_98_656  [00:00:00]  \n",
    "NN.PDF [ p.31 ]\n",
    "\n",
    "---"
   ]
  },
  {
   "cell_type": "code",
   "execution_count": null,
   "metadata": {},
   "outputs": [],
   "source": []
  }
 ],
 "metadata": {
  "kernelspec": {
   "display_name": "Python 3.9.7 ('base')",
   "language": "python",
   "name": "python3"
  },
  "language_info": {
   "name": "python",
   "version": "3.9.7"
  },
  "orig_nbformat": 4,
  "vscode": {
   "interpreter": {
    "hash": "b82663dd63489b4b5afc57cb3ef336cb502d8eb79ea17e0fc8cb873a1a4c1cc6"
   }
  }
 },
 "nbformat": 4,
 "nbformat_minor": 2
}
