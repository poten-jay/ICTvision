{
 "cells": [
  {
   "cell_type": "markdown",
   "metadata": {},
   "source": [
    "---\n",
    "\n",
    "2022_05_14_24_65_98_656.mp4 \n",
    "\n",
    "02:00:00 이후 \n",
    "\n",
    "cnn_history.pdf 필기\n",
    "\n",
    "최고 학회 : CVPR\n",
    "\n",
    "NEURAL NETS FOR VISION  from 구글\n",
    "\n",
    "---"
   ]
  },
  {
   "cell_type": "code",
   "execution_count": null,
   "metadata": {},
   "outputs": [],
   "source": []
  }
 ],
 "metadata": {
  "kernelspec": {
   "display_name": "Python 3.8.12 ('webai')",
   "language": "python",
   "name": "python3"
  },
  "language_info": {
   "name": "python",
   "version": "3.8.12"
  },
  "orig_nbformat": 4,
  "vscode": {
   "interpreter": {
    "hash": "37523b2ec534436c2cdb1f5e9e2c1935097c39242aba4aff1f8c4e90402edbfa"
   }
  }
 },
 "nbformat": 4,
 "nbformat_minor": 2
}
