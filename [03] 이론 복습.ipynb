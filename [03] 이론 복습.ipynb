{
 "cells": [
  {
   "cell_type": "code",
   "execution_count": 1,
   "metadata": {},
   "outputs": [],
   "source": [
    "import tensorflow as tf"
   ]
  },
  {
   "cell_type": "code",
   "execution_count": 14,
   "metadata": {},
   "outputs": [],
   "source": [
    "from sklearn.neural_network import MLPClassifier, MLPRegressor"
   ]
  },
  {
   "cell_type": "code",
   "execution_count": 34,
   "metadata": {},
   "outputs": [],
   "source": [
    "import seaborn as sns"
   ]
  },
  {
   "cell_type": "code",
   "execution_count": 35,
   "metadata": {},
   "outputs": [],
   "source": [
    "iris = sns.load_dataset('iris')"
   ]
  },
  {
   "cell_type": "code",
   "execution_count": 36,
   "metadata": {},
   "outputs": [
    {
     "data": {
      "text/html": [
       "<div>\n",
       "<style scoped>\n",
       "    .dataframe tbody tr th:only-of-type {\n",
       "        vertical-align: middle;\n",
       "    }\n",
       "\n",
       "    .dataframe tbody tr th {\n",
       "        vertical-align: top;\n",
       "    }\n",
       "\n",
       "    .dataframe thead th {\n",
       "        text-align: right;\n",
       "    }\n",
       "</style>\n",
       "<table border=\"1\" class=\"dataframe\">\n",
       "  <thead>\n",
       "    <tr style=\"text-align: right;\">\n",
       "      <th></th>\n",
       "      <th>sepal_length</th>\n",
       "      <th>sepal_width</th>\n",
       "      <th>petal_length</th>\n",
       "      <th>petal_width</th>\n",
       "      <th>species</th>\n",
       "    </tr>\n",
       "  </thead>\n",
       "  <tbody>\n",
       "    <tr>\n",
       "      <th>0</th>\n",
       "      <td>5.1</td>\n",
       "      <td>3.5</td>\n",
       "      <td>1.4</td>\n",
       "      <td>0.2</td>\n",
       "      <td>setosa</td>\n",
       "    </tr>\n",
       "    <tr>\n",
       "      <th>1</th>\n",
       "      <td>4.9</td>\n",
       "      <td>3.0</td>\n",
       "      <td>1.4</td>\n",
       "      <td>0.2</td>\n",
       "      <td>setosa</td>\n",
       "    </tr>\n",
       "    <tr>\n",
       "      <th>2</th>\n",
       "      <td>4.7</td>\n",
       "      <td>3.2</td>\n",
       "      <td>1.3</td>\n",
       "      <td>0.2</td>\n",
       "      <td>setosa</td>\n",
       "    </tr>\n",
       "    <tr>\n",
       "      <th>3</th>\n",
       "      <td>4.6</td>\n",
       "      <td>3.1</td>\n",
       "      <td>1.5</td>\n",
       "      <td>0.2</td>\n",
       "      <td>setosa</td>\n",
       "    </tr>\n",
       "    <tr>\n",
       "      <th>4</th>\n",
       "      <td>5.0</td>\n",
       "      <td>3.6</td>\n",
       "      <td>1.4</td>\n",
       "      <td>0.2</td>\n",
       "      <td>setosa</td>\n",
       "    </tr>\n",
       "    <tr>\n",
       "      <th>...</th>\n",
       "      <td>...</td>\n",
       "      <td>...</td>\n",
       "      <td>...</td>\n",
       "      <td>...</td>\n",
       "      <td>...</td>\n",
       "    </tr>\n",
       "    <tr>\n",
       "      <th>145</th>\n",
       "      <td>6.7</td>\n",
       "      <td>3.0</td>\n",
       "      <td>5.2</td>\n",
       "      <td>2.3</td>\n",
       "      <td>virginica</td>\n",
       "    </tr>\n",
       "    <tr>\n",
       "      <th>146</th>\n",
       "      <td>6.3</td>\n",
       "      <td>2.5</td>\n",
       "      <td>5.0</td>\n",
       "      <td>1.9</td>\n",
       "      <td>virginica</td>\n",
       "    </tr>\n",
       "    <tr>\n",
       "      <th>147</th>\n",
       "      <td>6.5</td>\n",
       "      <td>3.0</td>\n",
       "      <td>5.2</td>\n",
       "      <td>2.0</td>\n",
       "      <td>virginica</td>\n",
       "    </tr>\n",
       "    <tr>\n",
       "      <th>148</th>\n",
       "      <td>6.2</td>\n",
       "      <td>3.4</td>\n",
       "      <td>5.4</td>\n",
       "      <td>2.3</td>\n",
       "      <td>virginica</td>\n",
       "    </tr>\n",
       "    <tr>\n",
       "      <th>149</th>\n",
       "      <td>5.9</td>\n",
       "      <td>3.0</td>\n",
       "      <td>5.1</td>\n",
       "      <td>1.8</td>\n",
       "      <td>virginica</td>\n",
       "    </tr>\n",
       "  </tbody>\n",
       "</table>\n",
       "<p>150 rows × 5 columns</p>\n",
       "</div>"
      ],
      "text/plain": [
       "     sepal_length  sepal_width  petal_length  petal_width    species\n",
       "0             5.1          3.5           1.4          0.2     setosa\n",
       "1             4.9          3.0           1.4          0.2     setosa\n",
       "2             4.7          3.2           1.3          0.2     setosa\n",
       "3             4.6          3.1           1.5          0.2     setosa\n",
       "4             5.0          3.6           1.4          0.2     setosa\n",
       "..            ...          ...           ...          ...        ...\n",
       "145           6.7          3.0           5.2          2.3  virginica\n",
       "146           6.3          2.5           5.0          1.9  virginica\n",
       "147           6.5          3.0           5.2          2.0  virginica\n",
       "148           6.2          3.4           5.4          2.3  virginica\n",
       "149           5.9          3.0           5.1          1.8  virginica\n",
       "\n",
       "[150 rows x 5 columns]"
      ]
     },
     "execution_count": 36,
     "metadata": {},
     "output_type": "execute_result"
    }
   ],
   "source": [
    "iris"
   ]
  },
  {
   "cell_type": "markdown",
   "metadata": {},
   "source": [
    "---\n",
    "# abstract\n",
    "쉽게 사용 각각의 Algorithm 별 특색을 극대화 시킬 수 없음"
   ]
  },
  {
   "cell_type": "code",
   "execution_count": null,
   "metadata": {},
   "outputs": [],
   "source": [
    "mlp = MLPClassifier((4,3,3))\n",
    "mlp.fit()"
   ]
  },
  {
   "cell_type": "code",
   "execution_count": null,
   "metadata": {},
   "outputs": [],
   "source": [
    "model = tf.keras.models.Sequential()\n",
    "- MIMO (Multi Input Multi Output) (X)"
   ]
  },
  {
   "cell_type": "code",
   "execution_count": null,
   "metadata": {},
   "outputs": [],
   "source": [
    "model = tf.keras.models.Model()\n",
    "- MIMO (Multi Input Multi Output) (O)\n",
    "- functional programming > theory == practice"
   ]
  },
  {
   "cell_type": "code",
   "execution_count": 75,
   "metadata": {},
   "outputs": [],
   "source": [
    "(X_train, Y_train), (X_test, Y_test) = tf.keras.datasets.mnist.load_data()"
   ]
  },
  {
   "cell_type": "code",
   "execution_count": 3,
   "metadata": {},
   "outputs": [
    {
     "data": {
      "text/plain": [
       "numpy.ndarray"
      ]
     },
     "execution_count": 3,
     "metadata": {},
     "output_type": "execute_result"
    }
   ],
   "source": [
    "type(X_train)"
   ]
  },
  {
   "cell_type": "code",
   "execution_count": 76,
   "metadata": {},
   "outputs": [
    {
     "data": {
      "text/plain": [
       "(60000, 28, 28)"
      ]
     },
     "execution_count": 76,
     "metadata": {},
     "output_type": "execute_result"
    }
   ],
   "source": [
    "# 28 by 28\n",
    "X_train.shape"
   ]
  },
  {
   "cell_type": "code",
   "execution_count": 78,
   "metadata": {},
   "outputs": [
    {
     "data": {
      "text/plain": [
       "(28, 28)"
      ]
     },
     "execution_count": 78,
     "metadata": {},
     "output_type": "execute_result"
    }
   ],
   "source": [
    "X_train[0].shape"
   ]
  },
  {
   "cell_type": "code",
   "execution_count": 11,
   "metadata": {},
   "outputs": [
    {
     "data": {
      "text/plain": [
       "<matplotlib.image.AxesImage at 0x1a7dd4cf370>"
      ]
     },
     "execution_count": 11,
     "metadata": {},
     "output_type": "execute_result"
    },
    {
     "data": {
      "image/png": "[encoded data removed]",
      "text/plain": [
       "<Figure size 432x288 with 1 Axes>"
      ]
     },
     "metadata": {
      "needs_background": "light"
     },
     "output_type": "display_data"
    }
   ],
   "source": [
    "import matplotlib.pyplot as plt\n",
    "\n",
    "plt.imshow(X_train[2], cmap='gray')"
   ]
  },
  {
   "cell_type": "code",
   "execution_count": 79,
   "metadata": {},
   "outputs": [],
   "source": [
    "# 28 by 28 을 reshape 해준다.(2차원을 1차원으로 바꾼다.)\n",
    "# 왜?\n",
    "# 뉴럴네트웤은 1차원 데이터를 받는다.\n",
    "\n",
    "X_train_ = X_train.reshape(60000, -1)"
   ]
  },
  {
   "cell_type": "code",
   "execution_count": 80,
   "metadata": {},
   "outputs": [
    {
     "data": {
      "text/plain": [
       "(60000, 784)"
      ]
     },
     "execution_count": 80,
     "metadata": {},
     "output_type": "execute_result"
    }
   ],
   "source": [
    "X_train_.shape"
   ]
  },
  {
   "cell_type": "markdown",
   "metadata": {},
   "source": [
    "---\n",
    "# Sequentail 방식"
   ]
  },
  {
   "cell_type": "code",
   "execution_count": 27,
   "metadata": {},
   "outputs": [],
   "source": [
    "\n",
    "model_ = tf.keras.models.Sequential([\n",
    "    tf.keras.layers.Dense(128, input_shape=(784,)),\n",
    "    tf.keras.layers.Dropout\n",
    "    tf.keras.layers.Dense(10)\n",
    "])"
   ]
  },
  {
   "cell_type": "code",
   "execution_count": 28,
   "metadata": {},
   "outputs": [
    {
     "name": "stdout",
     "output_type": "stream",
     "text": [
      "Model: \"model_1\"\n",
      "_________________________________________________________________\n",
      "Layer (type)                 Output Shape              Param #   \n",
      "=================================================================\n",
      "input_1 (InputLayer)         [(None, 784)]             0         \n",
      "_________________________________________________________________\n",
      "dense_4 (Dense)              (None, 128)               100480    \n",
      "_________________________________________________________________\n",
      "dense_5 (Dense)              (None, 10)                1290      \n",
      "=================================================================\n",
      "Total params: 101,770\n",
      "Trainable params: 101,770\n",
      "Non-trainable params: 0\n",
      "_________________________________________________________________\n"
     ]
    }
   ],
   "source": [
    "model.summary()"
   ]
  },
  {
   "cell_type": "markdown",
   "metadata": {},
   "source": [
    "멀티 인풋, 멀티 아웃풋이 가능하지 않음"
   ]
  },
  {
   "cell_type": "code",
   "execution_count": 37,
   "metadata": {},
   "outputs": [
    {
     "data": {
      "text/plain": [
       "True"
      ]
     },
     "execution_count": 37,
     "metadata": {},
     "output_type": "execute_result"
    }
   ],
   "source": [
    "issubclass(tf.keras.models.Sequential, tf.keras.models.Model)\n",
    "\n",
    "# SISO 전용으로 만든 쉽게 사용할수 있게 만든 것"
   ]
  },
  {
   "cell_type": "markdown",
   "metadata": {},
   "source": [
    "---\n",
    "# Model 방식"
   ]
  },
  {
   "cell_type": "code",
   "execution_count": 13,
   "metadata": {},
   "outputs": [],
   "source": [
    "input_ = tf.keras.Input(shape=(784,))"
   ]
  },
  {
   "cell_type": "markdown",
   "metadata": {},
   "source": [
    "* 잠시  \n",
    "-> 위 데이터를 sklearn 에 사용할 수 있는가?  \n",
    "있다. (2차원의 numpy로 되어 있으니까.)"
   ]
  },
  {
   "cell_type": "code",
   "execution_count": 26,
   "metadata": {},
   "outputs": [],
   "source": [
    "# layer1 = tf.keras.layers.Dense(128)\n",
    "# layer1 는 함수처럼 사용 가능\n",
    "\n",
    "x = tf.keras.layers.Dense(128)(input_)\n",
    "output = tf.keras.layers.Dense(10)(x)\n",
    "# 멀티 인풋, 멀티 아웃풋이 가능 (사이킷런은 가능)\n",
    "model = tf.keras.models.Model(input_, output)"
   ]
  },
  {
   "cell_type": "markdown",
   "metadata": {},
   "source": [
    "---"
   ]
  },
  {
   "cell_type": "code",
   "execution_count": 81,
   "metadata": {},
   "outputs": [],
   "source": [
    "input_ = tf.keras.Input(shape=(784,))\n",
    "x = tf.keras.layers.Dense(128)(input_)\n",
    "# x = tf.keras.layers.Activation('relu')(x)\n",
    "x = tf.keras.layers.ReLU()(x)\n",
    "x = tf.keras.layers.Dense(10)(x)\n",
    "output = tf.keras.layers.Dense(10)(x)\n",
    "model = tf.keras.models.Model(input_, output)"
   ]
  },
  {
   "cell_type": "code",
   "execution_count": 82,
   "metadata": {},
   "outputs": [
    {
     "name": "stdout",
     "output_type": "stream",
     "text": [
      "Model: \"model_7\"\n",
      "_________________________________________________________________\n",
      "Layer (type)                 Output Shape              Param #   \n",
      "=================================================================\n",
      "input_8 (InputLayer)         [(None, 784)]             0         \n",
      "_________________________________________________________________\n",
      "dense_29 (Dense)             (None, 128)               100480    \n",
      "_________________________________________________________________\n",
      "re_lu_7 (ReLU)               (None, 128)               0         \n",
      "_________________________________________________________________\n",
      "dense_30 (Dense)             (None, 10)                1290      \n",
      "_________________________________________________________________\n",
      "dense_31 (Dense)             (None, 10)                110       \n",
      "=================================================================\n",
      "Total params: 101,880\n",
      "Trainable params: 101,880\n",
      "Non-trainable params: 0\n",
      "_________________________________________________________________\n"
     ]
    }
   ],
   "source": [
    "model.summary()"
   ]
  },
  {
   "cell_type": "code",
   "execution_count": 43,
   "metadata": {},
   "outputs": [],
   "source": [
    "# 전문가 방식...\n",
    "# super 무조건 써야함\n",
    "# 왜 전문가는 이런 방식을 쓸까? \n",
    "# - model은 인풋을 지정해야하는데, 여기선 안해도 된다. (훨씬 더 유연함)\n",
    "# - 상속을 하기 때문에 재활용 가능\n",
    "\n",
    "class MyModel(tf.keras.models.Model):\n",
    "    def __init__(self):\n",
    "        super().__init__(self)\n",
    "        self.layer1 = tf.keras.layers.Dense(128)\n",
    "        self.relu1 = tf.keras.layers.ReLU()\n",
    "        self.outlayer = tf.keras.layers.Dense(10)\n",
    "        self.softmax = tf.keras.layers.Softmax()\n",
    "    def call(self, input_):\n",
    "        x = self.layer1(input_)\n",
    "        x = self.relu1(x)\n",
    "        x = self.outlayer(x)\n",
    "        x = self.softmax(x)\n",
    "        return x"
   ]
  },
  {
   "cell_type": "code",
   "execution_count": 44,
   "metadata": {},
   "outputs": [],
   "source": [
    "mymlp = MyModel()"
   ]
  },
  {
   "cell_type": "code",
   "execution_count": 45,
   "metadata": {},
   "outputs": [
    {
     "data": {
      "text/plain": [
       "<KerasTensor: shape=(None, 10) dtype=float32 (created by layer 'my_model_2')>"
      ]
     },
     "execution_count": 45,
     "metadata": {},
     "output_type": "execute_result"
    }
   ],
   "source": [
    "mymlp(input_)"
   ]
  },
  {
   "cell_type": "code",
   "execution_count": 46,
   "metadata": {},
   "outputs": [
    {
     "name": "stdout",
     "output_type": "stream",
     "text": [
      "Model: \"my_model_2\"\n",
      "_________________________________________________________________\n",
      "Layer (type)                 Output Shape              Param #   \n",
      "=================================================================\n",
      "dense_18 (Dense)             multiple                  100480    \n",
      "_________________________________________________________________\n",
      "re_lu_3 (ReLU)               multiple                  0         \n",
      "_________________________________________________________________\n",
      "dense_19 (Dense)             multiple                  1290      \n",
      "_________________________________________________________________\n",
      "softmax_1 (Softmax)          multiple                  0         \n",
      "=================================================================\n",
      "Total params: 101,770\n",
      "Trainable params: 101,770\n",
      "Non-trainable params: 0\n",
      "_________________________________________________________________\n"
     ]
    }
   ],
   "source": [
    "mymlp.summary()"
   ]
  },
  {
   "cell_type": "code",
   "execution_count": null,
   "metadata": {},
   "outputs": [],
   "source": []
  },
  {
   "cell_type": "code",
   "execution_count": 18,
   "metadata": {},
   "outputs": [
    {
     "data": {
      "text/plain": [
       "MLPClassifier()"
      ]
     },
     "execution_count": 18,
     "metadata": {},
     "output_type": "execute_result"
    }
   ],
   "source": [
    "mlp = MLPClassifier()\n",
    "mlp.fit(X_train_, Y_train)"
   ]
  },
  {
   "cell_type": "code",
   "execution_count": 48,
   "metadata": {},
   "outputs": [],
   "source": [
    "minput_ = tf.keras.Input(shape=(784,))\n",
    "x = tf.keras.layers.Dense(128)(input_)\n",
    "# x = tf.keras.layers.Activation('relu')(x)\n",
    "x = tf.keras.layers.ReLU()(x)\n",
    "x = tf.keras.layers.Dense(10)(x)\n",
    "output = tf.keras.layers.Dense(10)(x)\n",
    "model = tf.keras.models.Model(input_, output)"
   ]
  },
  {
   "cell_type": "code",
   "execution_count": 53,
   "metadata": {},
   "outputs": [
    {
     "data": {
      "text/plain": [
       "TensorShape([1, 784])"
      ]
     },
     "execution_count": 53,
     "metadata": {},
     "output_type": "execute_result"
    }
   ],
   "source": [
    "# 전부다 같은것, 하지만 첫번째를 많이 씀 (짧음)\n",
    "X_train_[0][tf.newaxis].shape\n",
    "X_train_[0].reshape(-1, 784).shape\n",
    "tf.expand_dims(X_train_[0], 0).shape"
   ]
  },
  {
   "cell_type": "code",
   "execution_count": 55,
   "metadata": {},
   "outputs": [
    {
     "data": {
      "text/plain": [
       "[<tf.Variable 'dense_23/kernel:0' shape=(784, 128) dtype=float32, numpy=\n",
       " array([[-0.02670462,  0.07212297,  0.07572461, ..., -0.03492951,\n",
       "          0.00351293,  0.0227152 ],\n",
       "        [-0.05606914, -0.01924315, -0.07365024, ..., -0.00696302,\n",
       "          0.00960322,  0.06330822],\n",
       "        [ 0.07419493, -0.05491085, -0.01561078, ...,  0.0226582 ,\n",
       "         -0.02765274, -0.06502093],\n",
       "        ...,\n",
       "        [ 0.04898479, -0.06203903,  0.06071017, ...,  0.03194147,\n",
       "          0.06598205, -0.0719903 ],\n",
       "        [-0.07069965,  0.03458725,  0.05113774, ...,  0.05826724,\n",
       "         -0.0280018 ,  0.01018471],\n",
       "        [-0.00231661,  0.00238428,  0.01870421, ...,  0.00137569,\n",
       "         -0.05755401, -0.04950357]], dtype=float32)>,\n",
       " <tf.Variable 'dense_23/bias:0' shape=(128,) dtype=float32, numpy=\n",
       " array([0., 0., 0., 0., 0., 0., 0., 0., 0., 0., 0., 0., 0., 0., 0., 0., 0.,\n",
       "        0., 0., 0., 0., 0., 0., 0., 0., 0., 0., 0., 0., 0., 0., 0., 0., 0.,\n",
       "        0., 0., 0., 0., 0., 0., 0., 0., 0., 0., 0., 0., 0., 0., 0., 0., 0.,\n",
       "        0., 0., 0., 0., 0., 0., 0., 0., 0., 0., 0., 0., 0., 0., 0., 0., 0.,\n",
       "        0., 0., 0., 0., 0., 0., 0., 0., 0., 0., 0., 0., 0., 0., 0., 0., 0.,\n",
       "        0., 0., 0., 0., 0., 0., 0., 0., 0., 0., 0., 0., 0., 0., 0., 0., 0.,\n",
       "        0., 0., 0., 0., 0., 0., 0., 0., 0., 0., 0., 0., 0., 0., 0., 0., 0.,\n",
       "        0., 0., 0., 0., 0., 0., 0., 0., 0.], dtype=float32)>,\n",
       " <tf.Variable 'dense_24/kernel:0' shape=(128, 10) dtype=float32, numpy=\n",
       " array([[-0.13249658, -0.07448843,  0.01661925, ..., -0.19929062,\n",
       "         -0.11406621,  0.19326894],\n",
       "        [ 0.11596657,  0.02068682, -0.11676751, ..., -0.11487859,\n",
       "          0.19331647, -0.00065011],\n",
       "        [-0.17923746,  0.20237143,  0.18667771, ..., -0.1237584 ,\n",
       "          0.07925563, -0.07251649],\n",
       "        ...,\n",
       "        [ 0.08495222,  0.1222574 , -0.17322956, ..., -0.05445823,\n",
       "          0.06751607,  0.05568443],\n",
       "        [ 0.01032341, -0.01899581, -0.15719172, ..., -0.09109619,\n",
       "          0.03747737,  0.14037119],\n",
       "        [ 0.01934664,  0.20848085, -0.12822075, ..., -0.13405038,\n",
       "         -0.1667705 , -0.0506983 ]], dtype=float32)>,\n",
       " <tf.Variable 'dense_24/bias:0' shape=(10,) dtype=float32, numpy=array([0., 0., 0., 0., 0., 0., 0., 0., 0., 0.], dtype=float32)>,\n",
       " <tf.Variable 'dense_25/kernel:0' shape=(10, 10) dtype=float32, numpy=\n",
       " array([[-0.30967   , -0.16224381, -0.10554153,  0.2662452 ,  0.47104967,\n",
       "          0.45059764,  0.18861878, -0.53093404,  0.32922506,  0.11749023],\n",
       "        [-0.423397  , -0.06868446, -0.25692216, -0.08597669,  0.20851856,\n",
       "          0.01203686,  0.08908337, -0.40354198,  0.09128559, -0.24696529],\n",
       "        [ 0.10536003, -0.22934619,  0.03754383, -0.02341861,  0.31764263,\n",
       "          0.25310147, -0.24564505, -0.21200302, -0.20946872, -0.14200854],\n",
       "        [ 0.43450356, -0.30931443, -0.41420758, -0.45947537, -0.15995958,\n",
       "         -0.38923407,  0.48828435, -0.15829432, -0.5346688 , -0.5416148 ],\n",
       "        [-0.3890472 , -0.4511097 ,  0.01462501,  0.24826044, -0.43846834,\n",
       "         -0.32955793,  0.30172706, -0.43073836,  0.40005022,  0.2059089 ],\n",
       "        [ 0.26401776, -0.08085543, -0.27461764,  0.29083186, -0.33244258,\n",
       "         -0.17688185, -0.25579035,  0.46790087,  0.05082953, -0.33474407],\n",
       "        [ 0.37959057, -0.18605077, -0.50454193, -0.17809841,  0.42642558,\n",
       "          0.3548327 ,  0.17189562,  0.5408633 ,  0.4305336 , -0.03329337],\n",
       "        [-0.5068315 ,  0.10663873, -0.15590328, -0.05203953, -0.44204003,\n",
       "         -0.34454647,  0.14380962,  0.24852133,  0.08417016, -0.49837065],\n",
       "        [ 0.3874709 ,  0.52329266,  0.41220146, -0.2676554 ,  0.056593  ,\n",
       "         -0.3688357 , -0.00243378, -0.4858233 , -0.02068788,  0.355632  ],\n",
       "        [-0.49652532, -0.33443287, -0.05064082,  0.23831648, -0.0748812 ,\n",
       "          0.19189376,  0.11145556,  0.54719627, -0.23141181,  0.43158156]],\n",
       "       dtype=float32)>,\n",
       " <tf.Variable 'dense_25/bias:0' shape=(10,) dtype=float32, numpy=array([0., 0., 0., 0., 0., 0., 0., 0., 0., 0.], dtype=float32)>]"
      ]
     },
     "execution_count": 55,
     "metadata": {},
     "output_type": "execute_result"
    }
   ],
   "source": [
    "model.weights"
   ]
  },
  {
   "cell_type": "code",
   "execution_count": 56,
   "metadata": {},
   "outputs": [],
   "source": [
    "import numpy as np"
   ]
  },
  {
   "cell_type": "code",
   "execution_count": 54,
   "metadata": {},
   "outputs": [
    {
     "data": {
      "text/plain": [
       "<tf.Tensor: shape=(1, 10), dtype=float32, numpy=\n",
       "array([[-127.88289  ,   18.20927  ,  -77.67089  ,   -1.0827913,\n",
       "        -109.1558   ,  -75.66938  ,   33.706955 ,   61.257965 ,\n",
       "         103.353165 , -135.28891  ]], dtype=float32)>"
      ]
     },
     "execution_count": 54,
     "metadata": {},
     "output_type": "execute_result"
    }
   ],
   "source": [
    "model(X_train_[0][tf.newaxis])"
   ]
  },
  {
   "cell_type": "code",
   "execution_count": null,
   "metadata": {},
   "outputs": [],
   "source": [
    "# 위 값(예측 값)과  \n",
    "# 0 0 0 0 0 0 1 0 0 0 0 (실제 값)  \n",
    "# 차(실제값 - 예측값 = loss)를 구해서 가능한 비슷하게 웨이트를 조정한다 => 학습"
   ]
  },
  {
   "cell_type": "markdown",
   "metadata": {},
   "source": [
    "---\n",
    "### NN.pdf / 45p\n",
    "\n",
    "optimization : 최적화 (최소값을 찾는 문제)  \n",
    "loss : 실제값 - 예측값  \n",
    "\n",
    "loss function : 실제값 - 예측값 (하나의 값들)  \n",
    "cost function : 실제값들 - 예측값들 (여러 값들을 대표적인 하나의 값들로 만들때)  \n",
    " - 언제 제곱하고, 언제 절대값 쓰나? => 상황에 맞춰\n",
    " - MSE (제곱) [L2 loss] \n",
    "    - but outlier를 크게 부각시키는 문제점 (잘못된 값을 너무 크게 계산 할 수 있다.)\n",
    "    - 해결 : cross entropy : 아닌건 0으로 맞는것만 계산.\n",
    "    - onehot / 분류 에서는 MSE 보다 cross entropy 가 좋다.\n",
    " - MAE (절대값) [L1 loss]\n",
    "\n",
    "objective function : 하나의 목적으로 보고 loss 계산\n",
    "\n",
    "---"
   ]
  },
  {
   "cell_type": "markdown",
   "metadata": {},
   "source": [
    "# complie"
   ]
  },
  {
   "cell_type": "code",
   "execution_count": 62,
   "metadata": {},
   "outputs": [],
   "source": [
    "\n",
    "model.compile(loss=tf.keras.losses.SparseCategoricalCrossentropy())\n",
    "\n",
    "# 알아야 할 것이 3가지 있다.\n",
    "# snake : sparse_categorical_crossentropy (function) : 언더바\n",
    "# camel : sparseCategoricalCrossentropy (python에서는 camel 을 첫글자 대문자로)\n",
    "# capsword(pascal) : SparseCategoricalCrossentropy\n",
    "#\n",
    "# 차이점 \n",
    "#\n",
    "# argument를 어떻게 사용하나가 다름\n",
    "# tf.keras.losses.sparse_categorical_crossentropy\n",
    "# => partial 함수를 사용해서 바꿔야 함\n",
    "# tf.keras.losses.SparseCategoricalCrossentropy(from_logits=True)\n",
    "# => 바로 바꿈"
   ]
  },
  {
   "cell_type": "code",
   "execution_count": null,
   "metadata": {},
   "outputs": [],
   "source": [
    "# ex1)\n",
    "l = tf.keras.losses.SparseCategoricalCrossentropy(from_logits=True)\n",
    "dir(l)\n",
    "# '__call__', 이 있으므로 함수 맞음"
   ]
  },
  {
   "cell_type": "code",
   "execution_count": 60,
   "metadata": {},
   "outputs": [],
   "source": [
    "# ex2)\n",
    "from functools import partial\n",
    "\n",
    "s2 = partial(tf.keras.losses.sparse_categorical_crossentropy, from_logits = True)"
   ]
  },
  {
   "cell_type": "code",
   "execution_count": 61,
   "metadata": {},
   "outputs": [],
   "source": [
    "# ex3) 데코레이션 (함수안에 함수)\n",
    "def s3():\n",
    "    def loss(y_true, y_pred):\n",
    "        return tf.keras.losses.sparse_categorical_crossentropy(from_logits=True)\n",
    "    return loss"
   ]
  },
  {
   "cell_type": "code",
   "execution_count": null,
   "metadata": {},
   "outputs": [],
   "source": [
    "# 정리 (컴파일이 가능한 것들)\n",
    "# https://keras.io/api/losses/\n",
    "# loss 종류가 많다. 상황에 맞게 사용\n",
    "model.compile(loss=tf.keras.losses.SparseCategoricalCrossentropy()) # 괄호 (함수가 아님)\n",
    "model.compile(loss=tf.keras.losses.sparse_categorical_crossentropy)\n",
    "model.compile(loss=\"sparse_categorical_crossentropy\") # 문자열 (문자열은 함수열)"
   ]
  },
  {
   "cell_type": "code",
   "execution_count": null,
   "metadata": {},
   "outputs": [],
   "source": [
    "# loss 에서\n",
    "# tf/keras > 이론관련 / 편의기능\n",
    "tf.keras.losses.BinaryCrossentropy # 0 과 1\n",
    "\n",
    "tf.keras.losses.CategoricalCrossentropy # \n",
    "\n",
    "tf.keras.losses.SparseCategoricalCrossentropy \n",
    "# 실제값이 onehot으로 표형해야 하는데, y_train이 onehot이 안되어 있을때 자동으로 인코딩 해줌 (편의기능)"
   ]
  },
  {
   "cell_type": "markdown",
   "metadata": {},
   "source": [
    "---\n",
    "\n",
    "# optimization (최적화) = 학습\n",
    "\n",
    "방법에는 크게 -> 미분을 하는 것과 안하는 것으로 나뉨.\n",
    "\n",
    "역전파 : 학습을 미분적으로 해결 => 시그모이드\n",
    "\n",
    "미분을 한번하느냐, 두번하느냐\n",
    "\n",
    "한번 미분해서 최소값을 구하는 방식 (여러번 미분하면 복잡해짐): 경사하상법 (gradient descent)   \n",
    "- 꼭 경사하강 써야 하는건 아니다. 하지만.   \n",
    "- 왜 사용? 빠르다. (리소스 값이 적게듦.)\n",
    "- 경사하강을 여러번 반복 해 최소값 찾아야 함(epochs)\n",
    "\n",
    "NN 에서 가장 잘 맞는 것 : 경사하강법으로 최소값을 찾는다.\n",
    "\n",
    "---"
   ]
  },
  {
   "cell_type": "code",
   "execution_count": 83,
   "metadata": {},
   "outputs": [],
   "source": [
    "# loss 와 optimizer 는 짝이 되어야 한다.\n",
    "# metrics 까지 삼총사 (혼돈행렬 관점에서 (compusion metrics) 확인)\n",
    "# 젤 중요한건 loss\n",
    "\n",
    "model.compile(loss=tf.keras.losses.SparseCategoricalCrossentropy(),\n",
    "              optimizer = tf.keras.optimizers.Adam(),\n",
    "              metrics=['accuracy']\n",
    "              )"
   ]
  },
  {
   "cell_type": "code",
   "execution_count": 84,
   "metadata": {},
   "outputs": [
    {
     "name": "stdout",
     "output_type": "stream",
     "text": [
      "Epoch 1/5\n",
      "1875/1875 [==============================] - 4s 2ms/step - loss: 8.0914 - accuracy: 0.2152\n",
      "Epoch 2/5\n",
      "1875/1875 [==============================] - 4s 2ms/step - loss: 2.2547 - accuracy: 0.3009\n",
      "Epoch 3/5\n",
      "1875/1875 [==============================] - 4s 2ms/step - loss: 2.2643 - accuracy: 0.2932\n",
      "Epoch 4/5\n",
      "1875/1875 [==============================] - 4s 2ms/step - loss: 2.2643 - accuracy: 0.2932\n",
      "Epoch 5/5\n",
      "1875/1875 [==============================] - 4s 2ms/step - loss: 2.2501 - accuracy: 0.2942\n"
     ]
    },
    {
     "data": {
      "text/plain": [
       "<tensorflow.python.keras.callbacks.History at 0x1a9ac830730>"
      ]
     },
     "execution_count": 84,
     "metadata": {},
     "output_type": "execute_result"
    }
   ],
   "source": [
    "model.fit(X_train_, Y_train, epochs=5)"
   ]
  },
  {
   "cell_type": "code",
   "execution_count": 89,
   "metadata": {},
   "outputs": [
    {
     "data": {
      "text/plain": [
       "(60000, 784)"
      ]
     },
     "execution_count": 89,
     "metadata": {},
     "output_type": "execute_result"
    }
   ],
   "source": [
    "X_train_.shape"
   ]
  },
  {
   "cell_type": "code",
   "execution_count": null,
   "metadata": {},
   "outputs": [],
   "source": [
    "# 오버피팅 방지 = 테스트 데이터 해봐야 함 (reshape)\n",
    "\n",
    "X_test_ = X_test.reshape(-1, 784)"
   ]
  },
  {
   "cell_type": "markdown",
   "metadata": {},
   "source": [
    "---\n",
    "역전파 (BackPropagation)\n",
    "\n",
    "d\n",
    "d"
   ]
  },
  {
   "cell_type": "markdown",
   "metadata": {},
   "source": [
    "---\n",
    "# flatten\n"
   ]
  },
  {
   "cell_type": "code",
   "execution_count": 91,
   "metadata": {},
   "outputs": [
    {
     "data": {
      "text/plain": [
       "array([[ 0,  1,  2,  3,  4,  5],\n",
       "       [ 6,  7,  8,  9, 10, 11],\n",
       "       [12, 13, 14, 15, 16, 17],\n",
       "       [18, 19, 20, 21, 22, 23]])"
      ]
     },
     "execution_count": 91,
     "metadata": {},
     "output_type": "execute_result"
    }
   ],
   "source": [
    "# numpy flatten\n",
    "\n",
    "x = np.arange(24).reshape(4,6)\n",
    "x"
   ]
  },
  {
   "cell_type": "code",
   "execution_count": 92,
   "metadata": {},
   "outputs": [
    {
     "data": {
      "text/plain": [
       "array([ 0,  1,  2,  3,  4,  5,  6,  7,  8,  9, 10, 11, 12, 13, 14, 15, 16,\n",
       "       17, 18, 19, 20, 21, 22, 23])"
      ]
     },
     "execution_count": 92,
     "metadata": {},
     "output_type": "execute_result"
    }
   ],
   "source": [
    "x.flatten() # copy (deep copy) 깊은 복사"
   ]
  },
  {
   "cell_type": "code",
   "execution_count": 94,
   "metadata": {},
   "outputs": [
    {
     "data": {
      "text/plain": [
       "array([ 0,  1,  2,  3,  4,  5,  6,  7,  8,  9, 10, 11, 12, 13, 14, 15, 16,\n",
       "       17, 18, 19, 20, 21, 22, 23])"
      ]
     },
     "execution_count": 94,
     "metadata": {},
     "output_type": "execute_result"
    }
   ],
   "source": [
    "x.ravel() # view (shallow copy) 얕은 복사"
   ]
  },
  {
   "cell_type": "code",
   "execution_count": null,
   "metadata": {},
   "outputs": [],
   "source": [
    "# flatten 과 ravel 차이\n",
    "# flatten 은 copy 방식, ravel 의 view 방식"
   ]
  },
  {
   "cell_type": "markdown",
   "metadata": {},
   "source": [
    "---"
   ]
  },
  {
   "cell_type": "code",
   "execution_count": 95,
   "metadata": {},
   "outputs": [
    {
     "data": {
      "text/plain": [
       "array([[[ 0,  1,  2,  3,  4,  5],\n",
       "        [ 6,  7,  8,  9, 10, 11]],\n",
       "\n",
       "       [[12, 13, 14, 15, 16, 17],\n",
       "        [18, 19, 20, 21, 22, 23]]])"
      ]
     },
     "execution_count": 95,
     "metadata": {},
     "output_type": "execute_result"
    }
   ],
   "source": [
    "# 3차원\n",
    "x = np.arange(24).reshape(2,2,6)\n",
    "x"
   ]
  },
  {
   "cell_type": "code",
   "execution_count": 96,
   "metadata": {},
   "outputs": [
    {
     "data": {
      "text/plain": [
       "(2, 2, 6)"
      ]
     },
     "execution_count": 96,
     "metadata": {},
     "output_type": "execute_result"
    }
   ],
   "source": [
    "x.shape"
   ]
  },
  {
   "cell_type": "code",
   "execution_count": 98,
   "metadata": {},
   "outputs": [
    {
     "data": {
      "text/plain": [
       "<tf.Tensor: shape=(2, 12), dtype=int32, numpy=\n",
       "array([[ 0,  1,  2,  3,  4,  5,  6,  7,  8,  9, 10, 11],\n",
       "       [12, 13, 14, 15, 16, 17, 18, 19, 20, 21, 22, 23]])>"
      ]
     },
     "execution_count": 98,
     "metadata": {},
     "output_type": "execute_result"
    }
   ],
   "source": [
    "tf.keras.layers.Flatten()(x)\n",
    "\n",
    "# (2,2,6) 중에서, 뒤에, 2,6 을 1차원으로 바꿔줌.\n",
    "\n",
    "# 따라서, (60000, 28, 28) 이면 => (60000, 724) 로 바뀜.\n",
    "\n",
    "# reshape 과 같은 개념 : X_train.reshape(60000, 28*28)\n",
    "\n",
    "### 중요 ###\n",
    "# reshape : cpu 연산\n",
    "# flatten : cpu 연산"
   ]
  },
  {
   "cell_type": "markdown",
   "metadata": {},
   "source": [
    "----\n",
    "### 최종 코드"
   ]
  },
  {
   "cell_type": "code",
   "execution_count": 99,
   "metadata": {},
   "outputs": [],
   "source": [
    "# https://www.tensorflow.org/tutorials/quickstart/beginner\n",
    "\n",
    "import tensorflow as tf"
   ]
  },
  {
   "cell_type": "code",
   "execution_count": 100,
   "metadata": {},
   "outputs": [],
   "source": [
    "mnist = tf.keras.datasets.mnist\n",
    "\n",
    "(x_train, y_train), (x_test, y_test) = mnist.load_data()\n",
    "x_train, x_test = x_train / 255.0, x_test / 255.0"
   ]
  },
  {
   "cell_type": "code",
   "execution_count": 101,
   "metadata": {},
   "outputs": [],
   "source": [
    "model = tf.keras.models.Sequential([\n",
    "  tf.keras.layers.Flatten(input_shape=(28, 28)),\n",
    "  tf.keras.layers.Dense(128, activation='relu'),\n",
    "  tf.keras.layers.Dropout(0.2),\n",
    "  tf.keras.layers.Dense(10, activation='softmax')\n",
    "])\n",
    "\n",
    "model.compile(optimizer='adam',\n",
    "              loss='sparse_categorical_crossentropy',\n",
    "              metrics=['accuracy'])"
   ]
  },
  {
   "cell_type": "code",
   "execution_count": 102,
   "metadata": {},
   "outputs": [
    {
     "name": "stdout",
     "output_type": "stream",
     "text": [
      "Epoch 1/5\n",
      "1875/1875 [==============================] - 4s 2ms/step - loss: 0.2909 - accuracy: 0.9148\n",
      "Epoch 2/5\n",
      "1875/1875 [==============================] - 4s 2ms/step - loss: 0.1375 - accuracy: 0.9593\n",
      "Epoch 3/5\n",
      "1875/1875 [==============================] - 4s 2ms/step - loss: 0.1046 - accuracy: 0.9687\n",
      "Epoch 4/5\n",
      "1875/1875 [==============================] - 4s 2ms/step - loss: 0.0857 - accuracy: 0.9735\n",
      "Epoch 5/5\n",
      "1875/1875 [==============================] - 4s 2ms/step - loss: 0.0709 - accuracy: 0.9779\n",
      "313/313 - 0s - loss: 0.0744 - accuracy: 0.9773\n"
     ]
    },
    {
     "data": {
      "text/plain": [
       "[0.07437273114919662, 0.9772999882698059]"
      ]
     },
     "execution_count": 102,
     "metadata": {},
     "output_type": "execute_result"
    }
   ],
   "source": [
    "model.fit(x_train, y_train, epochs=5)\n",
    "\n",
    "model.evaluate(x_test,  y_test, verbose=2)"
   ]
  },
  {
   "cell_type": "code",
   "execution_count": 103,
   "metadata": {},
   "outputs": [],
   "source": [
    "# mnist 손글씨의 문제점\n",
    "\n",
    "# 크기가 거의 맞춰져 있다. 글씨가 중앙에 있다. 크기가 비슷하다.\n",
    "# 따라서, 단순 array 형으로 모델을 돌려도 정확함.\n",
    "\n",
    "# 글씨가 중앙에 어느정도 비슷한 크기로 있으면, 성능이 좋지만, 구석진데 글이 있으면 성능이 매우 떨어짐.\n",
    "# 범용성 떨어짐\n",
    "\n",
    "# 과거 => 데이터 전처리를 통해 정렬하고 => NN 통해 예측 (ML 방법)\n",
    "# 또는 - 그림자체 특징을 잡아서 (사람이 만든 규칙) => 예측 (but 성능이 떨어지는 부작용, 고비용)\n",
    "\n",
    "# 위 2개를 convolusion 을 통해, computer vision과 ML 기법이 합쳐져서 사용됨"
   ]
  },
  {
   "cell_type": "code",
   "execution_count": null,
   "metadata": {},
   "outputs": [],
   "source": []
  }
 ],
 "metadata": {
  "kernelspec": {
   "display_name": "webai",
   "language": "python",
   "name": "webai"
  },
  "language_info": {
   "codemirror_mode": {
    "name": "ipython",
    "version": 3
   },
   "file_extension": ".py",
   "mimetype": "text/x-python",
   "name": "python",
   "nbconvert_exporter": "python",
   "pygments_lexer": "ipython3",
   "version": "3.8.12"
  },
  "orig_nbformat": 4
 },
 "nbformat": 4,
 "nbformat_minor": 2
}
